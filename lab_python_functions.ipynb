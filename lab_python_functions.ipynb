{
  "cells": [
    {
      "cell_type": "markdown",
      "id": "25d7736c-ba17-4aff-b6bb-66eba20fbf4e",
      "metadata": {
        "id": "25d7736c-ba17-4aff-b6bb-66eba20fbf4e"
      },
      "source": [
        "# Lab | Functions"
      ]
    },
    {
      "cell_type": "markdown",
      "id": "0c581062-8967-4d93-b06e-62833222f930",
      "metadata": {
        "tags": [],
        "id": "0c581062-8967-4d93-b06e-62833222f930"
      },
      "source": [
        "## Exercise: Managing Customer Orders with Functions\n",
        "\n",
        "In the previous exercise, you improved the code for managing customer orders by using loops and flow control. Now, let's take it a step further and refactor the code by introducing functions.\n",
        "\n",
        "Follow the steps below to complete the exercise:\n",
        "\n",
        "1. Define a function named `initialize_inventory` that takes `products` as a parameter. Inside the function, implement the code for initializing the inventory dictionary using a loop and user input.\n",
        "\n",
        "2. Define a function named `get_customer_orders` that takes no parameters. Inside the function, implement the code for prompting the user to enter the product names using a loop. The function should return the `customer_orders` set.\n",
        "\n",
        "3. Define a function named `update_inventory` that takes `customer_orders` and `inventory` as parameters. Inside the function, implement the code for updating the inventory dictionary based on the customer orders.\n",
        "\n",
        "4. Define a function named `calculate_order_statistics` that takes `customer_orders` and `products` as parameters. Inside the function, implement the code for calculating the order statistics (total products ordered, and percentage of unique products ordered). The function should return these values.\n",
        "\n",
        "5. Define a function named `print_order_statistics` that takes `order_statistics` as a parameter. Inside the function, implement the code for printing the order statistics.\n",
        "\n",
        "6. Define a function named `print_updated_inventory` that takes `inventory` as a parameter. Inside the function, implement the code for printing the updated inventory.\n",
        "\n",
        "7. Call the functions in the appropriate sequence to execute the program and manage customer orders.\n",
        "\n",
        "Hints for functions:\n",
        "\n",
        "- Consider the input parameters required for each function and their return values.\n",
        "- Utilize function parameters and return values to transfer data between functions.\n",
        "- Test your functions individually to ensure they work correctly.\n",
        "\n",
        "\n"
      ]
    },
    {
      "cell_type": "markdown",
      "source": [
        "##1 Define a function named initialize_inventory that takes products as a parameter. Inside the function, implement the code for initializing the inventory dictionary using a loop and user input."
      ],
      "metadata": {
        "id": "gEtVnWA5jVjr"
      },
      "id": "gEtVnWA5jVjr"
    },
    {
      "cell_type": "code",
      "source": [
        "products = [\"t-shirt\", \"mug\", \"hat\", \"book\", \"keychain\"]\n",
        "inventory = initialize_inventory(products)\n",
        "inventory\n",
        "\n",
        "def initialize_inventory(products):\n",
        "    inventory = {}\n",
        "    for product in products:\n",
        "        quantity = int(input(f\"Add the exact quantity of the value of the inventory for {product}:\"))\n",
        "        inventory[product] = quantity\n",
        "    return inventory\n",
        "\n",
        "print(\"Initialized inventory:\")\n",
        "for product, quantity in inventory.items():\n",
        "    print(f\"{product}: {quantity}\")"
      ],
      "metadata": {
        "colab": {
          "base_uri": "https://localhost:8080/"
        },
        "id": "59YINFzqjSOD",
        "outputId": "6bfdf59a-7e17-4feb-d76a-cc2000b1bd38"
      },
      "id": "59YINFzqjSOD",
      "execution_count": 5,
      "outputs": [
        {
          "output_type": "stream",
          "name": "stdout",
          "text": [
            "Add the exact quantity of the value of the inventory for t-shirt:1\n",
            "Add the exact quantity of the value of the inventory for mug:2\n",
            "Add the exact quantity of the value of the inventory for hat:3\n",
            "Add the exact quantity of the value of the inventory for book:4\n",
            "Add the exact quantity of the value of the inventory for keychain:5\n",
            "Initialized inventory:\n",
            "t-shirt: 1\n",
            "mug: 2\n",
            "hat: 3\n",
            "book: 4\n",
            "keychain: 5\n"
          ]
        }
      ]
    },
    {
      "cell_type": "markdown",
      "source": [],
      "metadata": {
        "id": "OVXoQ6d9k1np"
      },
      "id": "OVXoQ6d9k1np"
    },
    {
      "cell_type": "markdown",
      "source": [
        "## 2. Define a function named get_customer_orders that takes no parameters. Inside the function, implement the code for prompting the user to enter the product names using a loop. The function should return the customer_orders set."
      ],
      "metadata": {
        "id": "JWpOUTGpk8-P"
      },
      "id": "JWpOUTGpk8-P"
    },
    {
      "cell_type": "code",
      "source": [
        "def get_customer_orders():\n",
        "    products = [\"t-shirt\", \"mug\", \"hat\", \"book\", \"key chain\"]\n",
        "    customer_orders = set()\n",
        "\n",
        "    while True:\n",
        "        order = input(f\"Pick a product you want to order from the list {products}: \")\n",
        "\n",
        "        if order not in products:\n",
        "            print(\"Invalid product. Please select a valid product from the list.\")\n",
        "            continue\n",
        "\n",
        "        customer_orders.add(order)\n",
        "\n",
        "        another_order = input(\"Do you want to add another product? (yes/no): \").strip()\n",
        "        if another_order != \"yes\":\n",
        "            break\n",
        "\n",
        "    return customer_orders\n",
        "\n",
        "customer_orders = get_customer_orders()\n",
        "\n",
        "print(\"Customer Orders:\")\n",
        "customer_orders\n"
      ],
      "metadata": {
        "colab": {
          "base_uri": "https://localhost:8080/"
        },
        "id": "s14WUPJ9lirz",
        "outputId": "da645ee9-bab3-4127-85d2-bcd483daba2c"
      },
      "id": "s14WUPJ9lirz",
      "execution_count": 15,
      "outputs": [
        {
          "output_type": "stream",
          "name": "stdout",
          "text": [
            "Pick a product you want to order from the list ['t-shirt', 'mug', 'hat', 'book', 'key chain']: 5\n",
            "Invalid product. Please select a valid product from the list.\n",
            "Pick a product you want to order from the list ['t-shirt', 'mug', 'hat', 'book', 'key chain']: mug\n",
            "Do you want to add another product? (yes/no): no\n",
            "Customer Orders:\n"
          ]
        },
        {
          "output_type": "execute_result",
          "data": {
            "text/plain": [
              "{'mug'}"
            ]
          },
          "metadata": {},
          "execution_count": 15
        }
      ]
    },
    {
      "cell_type": "markdown",
      "source": [],
      "metadata": {
        "id": "uxS9NeEG4l6g"
      },
      "id": "uxS9NeEG4l6g"
    },
    {
      "cell_type": "markdown",
      "source": [
        "## Define a function named update_inventory that takes customer_orders and inventory as parameters. Inside the function, implement the code for updating the inventory dictionary based on the customer orders."
      ],
      "metadata": {
        "id": "8jhXvtCE4qv_"
      },
      "id": "8jhXvtCE4qv_"
    },
    {
      "cell_type": "code",
      "source": [
        "def update_inventory(customer_orders, inventory):\n",
        "    for product in customer_orders:\n",
        "        if product in inventory:\n",
        "            inventory[product] -= 1\n",
        "    return inventory"
      ],
      "metadata": {
        "id": "kouJezVqnBZJ"
      },
      "id": "kouJezVqnBZJ",
      "execution_count": 16,
      "outputs": []
    },
    {
      "cell_type": "markdown",
      "source": [],
      "metadata": {
        "id": "2oxOTEpo5E3K"
      },
      "id": "2oxOTEpo5E3K"
    },
    {
      "cell_type": "markdown",
      "source": [
        "## Define a function named calculate_order_statistics that takes customer_orders and products as parameters. Inside the function, implement the code for calculating the order statistics (total products ordered, and percentage of unique products ordered). The function should return these values."
      ],
      "metadata": {
        "id": "y_Cg63XA5HNX"
      },
      "id": "y_Cg63XA5HNX"
    },
    {
      "cell_type": "code",
      "source": [
        "def calculate_order_statistics(customer_orders,products):\n",
        "    total_products_ordered = len(customer_orders)\n",
        "    percentage_unique_products = (total_products_ordered / len(products)) * 100\n",
        "    return total_products_ordered, percentage_unique_products\n",
        "\n"
      ],
      "metadata": {
        "id": "BbMYQfcX5EjT"
      },
      "id": "BbMYQfcX5EjT",
      "execution_count": 18,
      "outputs": []
    },
    {
      "cell_type": "markdown",
      "source": [],
      "metadata": {
        "id": "zfBmEAuD5b0z"
      },
      "id": "zfBmEAuD5b0z"
    },
    {
      "cell_type": "markdown",
      "source": [
        "## Define a function named print_order_statistics that takes order_statistics as a parameter. Inside the function, implement the code for printing the order statistics"
      ],
      "metadata": {
        "id": "lc73bVZ95e4T"
      },
      "id": "lc73bVZ95e4T"
    },
    {
      "cell_type": "code",
      "source": [
        "def print_order_statistics(order_statistics):\n",
        "    total_products_ordered, percentage_unique_products = order_statistics\n",
        "    print(f\"Total Products Ordered: {total_products_ordered}\")"
      ],
      "metadata": {
        "id": "9Zhvox8t46KM"
      },
      "id": "9Zhvox8t46KM",
      "execution_count": 19,
      "outputs": []
    },
    {
      "cell_type": "markdown",
      "source": [
        "## Define a function named print_updated_inventory that takes inventory as a parameter. Inside the function, implement the code for printing the updated inventory."
      ],
      "metadata": {
        "id": "92NyT2jb5sM_"
      },
      "id": "92NyT2jb5sM_"
    },
    {
      "cell_type": "code",
      "source": [
        "def prin_updated_inventory(inventory):\n",
        "    print(\"Updated Inventory:\")\n",
        "    for product, quantity in inventory.items():\n",
        "        print(f\"{product}: {quantity}\")"
      ],
      "metadata": {
        "id": "9zVTAX_u5nLS"
      },
      "id": "9zVTAX_u5nLS",
      "execution_count": 20,
      "outputs": []
    },
    {
      "cell_type": "code",
      "source": [],
      "metadata": {
        "id": "S2L820tc52eD"
      },
      "id": "S2L820tc52eD",
      "execution_count": null,
      "outputs": []
    }
  ],
  "metadata": {
    "kernelspec": {
      "display_name": "Python 3 (ipykernel)",
      "language": "python",
      "name": "python3"
    },
    "language_info": {
      "codemirror_mode": {
        "name": "ipython",
        "version": 3
      },
      "file_extension": ".py",
      "mimetype": "text/x-python",
      "name": "python",
      "nbconvert_exporter": "python",
      "pygments_lexer": "ipython3",
      "version": "3.9.13"
    },
    "colab": {
      "provenance": []
    }
  },
  "nbformat": 4,
  "nbformat_minor": 5
}